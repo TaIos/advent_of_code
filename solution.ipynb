{
 "cells": [
  {
   "cell_type": "markdown",
   "metadata": {},
   "source": [
    "# Advent of code 2020\n",
    "* [tasks](https://adventofcode.com/)\n",
    "* [Peter Norvig's “pytudes” for Advent of Code 2020](https://github.com/norvig/pytudes/blob/master/ipynb/Advent-2020.ipynb)"
   ]
  },
  {
   "cell_type": "code",
   "execution_count": 40,
   "metadata": {},
   "outputs": [
    {
     "data": {
      "text/plain": [
       "str"
      ]
     },
     "execution_count": 40,
     "metadata": {},
     "output_type": "execute_result"
    }
   ],
   "source": [
    "type(\"asdf\")"
   ]
  },
  {
   "cell_type": "code",
   "execution_count": 16,
   "metadata": {},
   "outputs": [
    {
     "name": "stdout",
     "output_type": "stream",
     "text": [
      "original ['\\n', 'L', 'i', 'n', 'e', ' ', 'o', 'n', 'e', '\\n', 'L', 'i', 'n', 'e', ' ', 't', 'w', 'o', '\\n', 'S', 'a', 'u', 'r', 'o', 'n', ' ', ' ', ' ', ' ', ' ', ' ', ' ', ' ', ' ', ' ', ' ', '\\n']\n",
      "strip ['L', 'i', 'n', 'e', ' ', 'o', 'n', 'e', '\\n', 'L', 'i', 'n', 'e', ' ', 't', 'w', 'o', '\\n', 'S', 'a', 'u', 'r', 'o', 'n']\n",
      "rstrip ['\\n', 'L', 'i', 'n', 'e', ' ', 'o', 'n', 'e', '\\n', 'L', 'i', 'n', 'e', ' ', 't', 'w', 'o', '\\n', 'S', 'a', 'u', 'r', 'o', 'n']\n",
      "lstrip ['L', 'i', 'n', 'e', ' ', 'o', 'n', 'e', '\\n', 'L', 'i', 'n', 'e', ' ', 't', 'w', 'o', '\\n', 'S', 'a', 'u', 'r', 'o', 'n', ' ', ' ', ' ', ' ', ' ', ' ', ' ', ' ', ' ', ' ', ' ', '\\n']\n",
      "\n",
      "next <class 'str'> >< []\n",
      "next next <class 'str'> >< []\n"
     ]
    }
   ],
   "source": [
    "from pathlib import Path\n",
    "path = (Path('data') / 'test_data').with_suffix('.txt')\n",
    "\n",
    "with open(path, 'r') as f:\n",
    "    r1 = f.read()\n",
    "    print('original', list(r1))\n",
    "    print('strip', list(r1.strip()))\n",
    "    print('rstrip', list(r1.rstrip()))\n",
    "    print('lstrip', list(r1.lstrip()))\n",
    "    print()\n",
    "    r2 = f.read()\n",
    "    print('next', type(r2), f'>{r2}<', list(r2))\n",
    "    r3 = f.read()\n",
    "    print('next next', type(r3), f'>{r3}<', list(r3))"
   ]
  },
  {
   "cell_type": "code",
   "execution_count": 25,
   "metadata": {},
   "outputs": [],
   "source": [
    "from pathlib import Path\n",
    "\n",
    "def data(day :int, parser=str, sep='\\n'):\n",
    "    path = (Path('data') / f'{day:02d}').with_suffix('.txt')\n",
    "    with open(path) as f:\n",
    "        data = f.read().rstrip().split(sep)\n",
    "        return list(map(parser, data))"
   ]
  },
  {
   "cell_type": "markdown",
   "metadata": {},
   "source": [
    "# 01"
   ]
  },
  {
   "cell_type": "code",
   "execution_count": 6,
   "metadata": {},
   "outputs": [],
   "source": [
    "import requests\n",
    "\n",
    "r = requests.get('https://adventofcode.com/2020/day/1/input')"
   ]
  },
  {
   "cell_type": "code",
   "execution_count": 8,
   "metadata": {},
   "outputs": [
    {
     "data": {
      "text/plain": [
       "'Puzzle inputs differ by user.  Please log in to get your puzzle input.\\n'"
      ]
     },
     "execution_count": 8,
     "metadata": {},
     "output_type": "execute_result"
    }
   ],
   "source": [
    "r.text"
   ]
  }
 ],
 "metadata": {
  "kernelspec": {
   "display_name": "Python 3",
   "language": "python",
   "name": "python3"
  },
  "language_info": {
   "codemirror_mode": {
    "name": "ipython",
    "version": 3
   },
   "file_extension": ".py",
   "mimetype": "text/x-python",
   "name": "python",
   "nbconvert_exporter": "python",
   "pygments_lexer": "ipython3",
   "version": "3.9.1"
  }
 },
 "nbformat": 4,
 "nbformat_minor": 4
}
