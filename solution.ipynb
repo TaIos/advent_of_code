{
 "cells": [
  {
   "cell_type": "markdown",
   "metadata": {},
   "source": [
    "# Advent of code 2020\n",
    "* [tasks](https://adventofcode.com/)\n",
    "* [Peter Norvig's “pytudes” for Advent of Code 2020](https://github.com/norvig/pytudes/blob/master/ipynb/Advent-2020.ipynb)"
   ]
  },
  {
   "cell_type": "markdown",
   "metadata": {},
   "source": [
    "## Helpers"
   ]
  },
  {
   "cell_type": "code",
   "execution_count": 42,
   "metadata": {},
   "outputs": [],
   "source": [
    "from pathlib import Path\n",
    "\n",
    "def data(day :int, parser=str, sep='\\n') -> list:\n",
    "    path = (Path('data') / f'{day:02d}').with_suffix('.txt')\n",
    "    with open(path) as f:\n",
    "        data = f.read().rstrip().split(sep)\n",
    "        return list(map(parser, data))"
   ]
  },
  {
   "cell_type": "code",
   "execution_count": 43,
   "metadata": {},
   "outputs": [],
   "source": [
    "def first(iterable, default=None) -> object:\n",
    "    \"Return first item in iterable, or default.\"\n",
    "    return next(iter(iterable), default)"
   ]
  },
  {
   "cell_type": "markdown",
   "metadata": {},
   "source": [
    "# 01"
   ]
  },
  {
   "cell_type": "code",
   "execution_count": 44,
   "metadata": {},
   "outputs": [],
   "source": [
    "numbers = data(1, int)"
   ]
  },
  {
   "cell_type": "code",
   "execution_count": 18,
   "metadata": {},
   "outputs": [
    {
     "name": "stdout",
     "output_type": "stream",
     "text": [
      "(1909, 111) 211899\n"
     ]
    }
   ],
   "source": [
    "def day1_naive():\n",
    "    \"Naive solution, not checking same numbers, pure python. Would not pass tests if there were any.\" \n",
    "    for x in numbers:\n",
    "        for y in numbers:\n",
    "            if x + y == 2020:\n",
    "                return x*y, (x, y)\n",
    "r, pair = day1_naive()\n",
    "print(pair, r)"
   ]
  },
  {
   "cell_type": "code",
   "execution_count": 46,
   "metadata": {},
   "outputs": [
    {
     "name": "stdout",
     "output_type": "stream",
     "text": [
      "(1909, 111) 211899\n"
     ]
    }
   ],
   "source": [
    "from typing import Tuple\n",
    "\n",
    "def day1_pythonist() -> Tuple[int, Tuple[int, int]]:\n",
    "    \"More pythonist solution. Probably would pass tests if there were any. However, still slow with complexity O(n^2)\"\n",
    "    x, y = next(iter((x,y) for x in numbers for y in numbers if x+y == 2020 and x != y), None)\n",
    "    return x*y, (x, y)\n",
    "\n",
    "r, pair = day1_pythonist()\n",
    "print(pair, r)"
   ]
  }
 ],
 "metadata": {
  "kernelspec": {
   "display_name": "Python 3",
   "language": "python",
   "name": "python3"
  },
  "language_info": {
   "codemirror_mode": {
    "name": "ipython",
    "version": 3
   },
   "file_extension": ".py",
   "mimetype": "text/x-python",
   "name": "python",
   "nbconvert_exporter": "python",
   "pygments_lexer": "ipython3",
   "version": "3.9.1"
  }
 },
 "nbformat": 4,
 "nbformat_minor": 4
}
